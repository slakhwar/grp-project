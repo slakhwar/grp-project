{
 "cells": [
  {
   "cell_type": "markdown",
   "metadata": {},
   "source": [
    "3. Preliminary Exploratory Data Analysis"
   ]
  },
  {
   "cell_type": "markdown",
   "metadata": {},
   "source": [
    "Import Libraries"
   ]
  },
  {
   "cell_type": "code",
   "execution_count": 22,
   "metadata": {},
   "outputs": [
    {
     "name": "stderr",
     "output_type": "stream",
     "text": [
      "── \u001b[1mAttaching packages\u001b[22m ─────────────────────────────────────── tidyverse 1.3.0 ──\n",
      "\n",
      "\u001b[32m✔\u001b[39m \u001b[34mggplot2\u001b[39m 3.3.2     \u001b[32m✔\u001b[39m \u001b[34mpurrr  \u001b[39m 0.3.4\n",
      "\u001b[32m✔\u001b[39m \u001b[34mtibble \u001b[39m 3.0.3     \u001b[32m✔\u001b[39m \u001b[34mdplyr  \u001b[39m 1.0.2\n",
      "\u001b[32m✔\u001b[39m \u001b[34mtidyr  \u001b[39m 1.1.2     \u001b[32m✔\u001b[39m \u001b[34mstringr\u001b[39m 1.4.0\n",
      "\u001b[32m✔\u001b[39m \u001b[34mreadr  \u001b[39m 1.3.1     \u001b[32m✔\u001b[39m \u001b[34mforcats\u001b[39m 0.5.0\n",
      "\n",
      "Warning message:\n",
      "“package ‘ggplot2’ was built under R version 4.0.1”\n",
      "Warning message:\n",
      "“package ‘tibble’ was built under R version 4.0.2”\n",
      "Warning message:\n",
      "“package ‘tidyr’ was built under R version 4.0.2”\n",
      "Warning message:\n",
      "“package ‘dplyr’ was built under R version 4.0.2”\n",
      "── \u001b[1mConflicts\u001b[22m ────────────────────────────────────────── tidyverse_conflicts() ──\n",
      "\u001b[31m✖\u001b[39m \u001b[34mdplyr\u001b[39m::\u001b[32mfilter()\u001b[39m masks \u001b[34mstats\u001b[39m::filter()\n",
      "\u001b[31m✖\u001b[39m \u001b[34mdplyr\u001b[39m::\u001b[32mlag()\u001b[39m    masks \u001b[34mstats\u001b[39m::lag()\n",
      "\n",
      "Warning message:\n",
      "“package ‘tidymodels’ was built under R version 4.0.2”\n",
      "── \u001b[1mAttaching packages\u001b[22m ────────────────────────────────────── tidymodels 0.1.1 ──\n",
      "\n",
      "\u001b[32m✔\u001b[39m \u001b[34mbroom    \u001b[39m 0.7.0      \u001b[32m✔\u001b[39m \u001b[34mrecipes  \u001b[39m 0.1.13\n",
      "\u001b[32m✔\u001b[39m \u001b[34mdials    \u001b[39m 0.0.9      \u001b[32m✔\u001b[39m \u001b[34mrsample  \u001b[39m 0.0.7 \n",
      "\u001b[32m✔\u001b[39m \u001b[34minfer    \u001b[39m 0.5.4      \u001b[32m✔\u001b[39m \u001b[34mtune     \u001b[39m 0.1.1 \n",
      "\u001b[32m✔\u001b[39m \u001b[34mmodeldata\u001b[39m 0.0.2      \u001b[32m✔\u001b[39m \u001b[34mworkflows\u001b[39m 0.2.0 \n",
      "\u001b[32m✔\u001b[39m \u001b[34mparsnip  \u001b[39m 0.1.3      \u001b[32m✔\u001b[39m \u001b[34myardstick\u001b[39m 0.0.7 \n",
      "\n",
      "Warning message:\n",
      "“package ‘broom’ was built under R version 4.0.2”\n",
      "Warning message:\n",
      "“package ‘dials’ was built under R version 4.0.2”\n",
      "Warning message:\n",
      "“package ‘infer’ was built under R version 4.0.3”\n",
      "Warning message:\n",
      "“package ‘modeldata’ was built under R version 4.0.1”\n",
      "Warning message:\n",
      "“package ‘parsnip’ was built under R version 4.0.2”\n",
      "Warning message:\n",
      "“package ‘recipes’ was built under R version 4.0.1”\n",
      "Warning message:\n",
      "“package ‘tune’ was built under R version 4.0.2”\n",
      "Warning message:\n",
      "“package ‘workflows’ was built under R version 4.0.2”\n",
      "Warning message:\n",
      "“package ‘yardstick’ was built under R version 4.0.2”\n",
      "── \u001b[1mConflicts\u001b[22m ───────────────────────────────────────── tidymodels_conflicts() ──\n",
      "\u001b[31m✖\u001b[39m \u001b[34mscales\u001b[39m::\u001b[32mdiscard()\u001b[39m masks \u001b[34mpurrr\u001b[39m::discard()\n",
      "\u001b[31m✖\u001b[39m \u001b[34mdplyr\u001b[39m::\u001b[32mfilter()\u001b[39m   masks \u001b[34mstats\u001b[39m::filter()\n",
      "\u001b[31m✖\u001b[39m \u001b[34mrecipes\u001b[39m::\u001b[32mfixed()\u001b[39m  masks \u001b[34mstringr\u001b[39m::fixed()\n",
      "\u001b[31m✖\u001b[39m \u001b[34mdplyr\u001b[39m::\u001b[32mlag()\u001b[39m      masks \u001b[34mstats\u001b[39m::lag()\n",
      "\u001b[31m✖\u001b[39m \u001b[34myardstick\u001b[39m::\u001b[32mspec()\u001b[39m masks \u001b[34mreadr\u001b[39m::spec()\n",
      "\u001b[31m✖\u001b[39m \u001b[34mrecipes\u001b[39m::\u001b[32mstep()\u001b[39m   masks \u001b[34mstats\u001b[39m::step()\n",
      "\n"
     ]
    }
   ],
   "source": [
    "library(tidyverse)\n",
    "library(tidymodels)\n",
    "library(RColorBrewer)"
   ]
  },
  {
   "cell_type": "markdown",
   "metadata": {},
   "source": [
    "Preview Data"
   ]
  },
  {
   "cell_type": "code",
   "execution_count": 15,
   "metadata": {},
   "outputs": [
    {
     "data": {
      "text/html": [
       "<table>\n",
       "<caption>A data.frame: 10 × 14</caption>\n",
       "<thead>\n",
       "\t<tr><th></th><th scope=col>age</th><th scope=col>sex</th><th scope=col>cp..chest.pain.type.</th><th scope=col>trestbps..resting.blood.pressure.</th><th scope=col>chol..serum.cholestoral.in.mg.dl.</th><th scope=col>fbs..fasting.blood.sugar...120.mg.dl.</th><th scope=col>restecg..resting.electrocardiographic.results.</th><th scope=col>thalach..maximum.heart.rate.achieved.</th><th scope=col>exang..exercise.induced.angina.</th><th scope=col>oldpeak..ST.depression.induced.by.exercise.relative.to.rest.</th><th scope=col>slope..the.slope.of.the.peak.exercise.ST.segment.</th><th scope=col>ca..number.of.major.vessels..0.3..colored.by.flourosopy.</th><th scope=col>thal..3...normal..6...fixed.defect..7...reversable.defect.</th><th scope=col>num..diagnosis.of.heart.disease..angiographic.disease.status..</th></tr>\n",
       "\t<tr><th></th><th scope=col>&lt;int&gt;</th><th scope=col>&lt;int&gt;</th><th scope=col>&lt;int&gt;</th><th scope=col>&lt;int&gt;</th><th scope=col>&lt;int&gt;</th><th scope=col>&lt;int&gt;</th><th scope=col>&lt;int&gt;</th><th scope=col>&lt;int&gt;</th><th scope=col>&lt;int&gt;</th><th scope=col>&lt;dbl&gt;</th><th scope=col>&lt;int&gt;</th><th scope=col>&lt;chr&gt;</th><th scope=col>&lt;chr&gt;</th><th scope=col>&lt;int&gt;</th></tr>\n",
       "</thead>\n",
       "<tbody>\n",
       "\t<tr><th scope=row>1</th><td>63</td><td>1</td><td>1</td><td>145</td><td>233</td><td>1</td><td>2</td><td>150</td><td>0</td><td>2.3</td><td>3</td><td>0</td><td>6</td><td>0</td></tr>\n",
       "\t<tr><th scope=row>2</th><td>67</td><td>1</td><td>4</td><td>160</td><td>286</td><td>0</td><td>2</td><td>108</td><td>1</td><td>1.5</td><td>2</td><td>3</td><td>3</td><td>2</td></tr>\n",
       "\t<tr><th scope=row>3</th><td>67</td><td>1</td><td>4</td><td>120</td><td>229</td><td>0</td><td>2</td><td>129</td><td>1</td><td>2.6</td><td>2</td><td>2</td><td>7</td><td>1</td></tr>\n",
       "\t<tr><th scope=row>4</th><td>37</td><td>1</td><td>3</td><td>130</td><td>250</td><td>0</td><td>0</td><td>187</td><td>0</td><td>3.5</td><td>3</td><td>0</td><td>3</td><td>0</td></tr>\n",
       "\t<tr><th scope=row>5</th><td>41</td><td>0</td><td>2</td><td>130</td><td>204</td><td>0</td><td>2</td><td>172</td><td>0</td><td>1.4</td><td>1</td><td>0</td><td>3</td><td>0</td></tr>\n",
       "\t<tr><th scope=row>6</th><td>56</td><td>1</td><td>2</td><td>120</td><td>236</td><td>0</td><td>0</td><td>178</td><td>0</td><td>0.8</td><td>1</td><td>0</td><td>3</td><td>0</td></tr>\n",
       "\t<tr><th scope=row>7</th><td>62</td><td>0</td><td>4</td><td>140</td><td>268</td><td>0</td><td>2</td><td>160</td><td>0</td><td>3.6</td><td>3</td><td>2</td><td>3</td><td>3</td></tr>\n",
       "\t<tr><th scope=row>8</th><td>57</td><td>0</td><td>4</td><td>120</td><td>354</td><td>0</td><td>0</td><td>163</td><td>1</td><td>0.6</td><td>1</td><td>0</td><td>3</td><td>0</td></tr>\n",
       "\t<tr><th scope=row>9</th><td>63</td><td>1</td><td>4</td><td>130</td><td>254</td><td>0</td><td>2</td><td>147</td><td>0</td><td>1.4</td><td>2</td><td>1</td><td>7</td><td>2</td></tr>\n",
       "\t<tr><th scope=row>10</th><td>53</td><td>1</td><td>4</td><td>140</td><td>203</td><td>1</td><td>2</td><td>155</td><td>1</td><td>3.1</td><td>3</td><td>0</td><td>7</td><td>1</td></tr>\n",
       "</tbody>\n",
       "</table>\n"
      ],
      "text/latex": [
       "A data.frame: 10 × 14\n",
       "\\begin{tabular}{r|llllllllllllll}\n",
       "  & age & sex & cp..chest.pain.type. & trestbps..resting.blood.pressure. & chol..serum.cholestoral.in.mg.dl. & fbs..fasting.blood.sugar...120.mg.dl. & restecg..resting.electrocardiographic.results. & thalach..maximum.heart.rate.achieved. & exang..exercise.induced.angina. & oldpeak..ST.depression.induced.by.exercise.relative.to.rest. & slope..the.slope.of.the.peak.exercise.ST.segment. & ca..number.of.major.vessels..0.3..colored.by.flourosopy. & thal..3...normal..6...fixed.defect..7...reversable.defect. & num..diagnosis.of.heart.disease..angiographic.disease.status..\\\\\n",
       "  & <int> & <int> & <int> & <int> & <int> & <int> & <int> & <int> & <int> & <dbl> & <int> & <chr> & <chr> & <int>\\\\\n",
       "\\hline\n",
       "\t1 & 63 & 1 & 1 & 145 & 233 & 1 & 2 & 150 & 0 & 2.3 & 3 & 0 & 6 & 0\\\\\n",
       "\t2 & 67 & 1 & 4 & 160 & 286 & 0 & 2 & 108 & 1 & 1.5 & 2 & 3 & 3 & 2\\\\\n",
       "\t3 & 67 & 1 & 4 & 120 & 229 & 0 & 2 & 129 & 1 & 2.6 & 2 & 2 & 7 & 1\\\\\n",
       "\t4 & 37 & 1 & 3 & 130 & 250 & 0 & 0 & 187 & 0 & 3.5 & 3 & 0 & 3 & 0\\\\\n",
       "\t5 & 41 & 0 & 2 & 130 & 204 & 0 & 2 & 172 & 0 & 1.4 & 1 & 0 & 3 & 0\\\\\n",
       "\t6 & 56 & 1 & 2 & 120 & 236 & 0 & 0 & 178 & 0 & 0.8 & 1 & 0 & 3 & 0\\\\\n",
       "\t7 & 62 & 0 & 4 & 140 & 268 & 0 & 2 & 160 & 0 & 3.6 & 3 & 2 & 3 & 3\\\\\n",
       "\t8 & 57 & 0 & 4 & 120 & 354 & 0 & 0 & 163 & 1 & 0.6 & 1 & 0 & 3 & 0\\\\\n",
       "\t9 & 63 & 1 & 4 & 130 & 254 & 0 & 2 & 147 & 0 & 1.4 & 2 & 1 & 7 & 2\\\\\n",
       "\t10 & 53 & 1 & 4 & 140 & 203 & 1 & 2 & 155 & 1 & 3.1 & 3 & 0 & 7 & 1\\\\\n",
       "\\end{tabular}\n"
      ],
      "text/markdown": [
       "\n",
       "A data.frame: 10 × 14\n",
       "\n",
       "| <!--/--> | age &lt;int&gt; | sex &lt;int&gt; | cp..chest.pain.type. &lt;int&gt; | trestbps..resting.blood.pressure. &lt;int&gt; | chol..serum.cholestoral.in.mg.dl. &lt;int&gt; | fbs..fasting.blood.sugar...120.mg.dl. &lt;int&gt; | restecg..resting.electrocardiographic.results. &lt;int&gt; | thalach..maximum.heart.rate.achieved. &lt;int&gt; | exang..exercise.induced.angina. &lt;int&gt; | oldpeak..ST.depression.induced.by.exercise.relative.to.rest. &lt;dbl&gt; | slope..the.slope.of.the.peak.exercise.ST.segment. &lt;int&gt; | ca..number.of.major.vessels..0.3..colored.by.flourosopy. &lt;chr&gt; | thal..3...normal..6...fixed.defect..7...reversable.defect. &lt;chr&gt; | num..diagnosis.of.heart.disease..angiographic.disease.status.. &lt;int&gt; |\n",
       "|---|---|---|---|---|---|---|---|---|---|---|---|---|---|---|\n",
       "| 1 | 63 | 1 | 1 | 145 | 233 | 1 | 2 | 150 | 0 | 2.3 | 3 | 0 | 6 | 0 |\n",
       "| 2 | 67 | 1 | 4 | 160 | 286 | 0 | 2 | 108 | 1 | 1.5 | 2 | 3 | 3 | 2 |\n",
       "| 3 | 67 | 1 | 4 | 120 | 229 | 0 | 2 | 129 | 1 | 2.6 | 2 | 2 | 7 | 1 |\n",
       "| 4 | 37 | 1 | 3 | 130 | 250 | 0 | 0 | 187 | 0 | 3.5 | 3 | 0 | 3 | 0 |\n",
       "| 5 | 41 | 0 | 2 | 130 | 204 | 0 | 2 | 172 | 0 | 1.4 | 1 | 0 | 3 | 0 |\n",
       "| 6 | 56 | 1 | 2 | 120 | 236 | 0 | 0 | 178 | 0 | 0.8 | 1 | 0 | 3 | 0 |\n",
       "| 7 | 62 | 0 | 4 | 140 | 268 | 0 | 2 | 160 | 0 | 3.6 | 3 | 2 | 3 | 3 |\n",
       "| 8 | 57 | 0 | 4 | 120 | 354 | 0 | 0 | 163 | 1 | 0.6 | 1 | 0 | 3 | 0 |\n",
       "| 9 | 63 | 1 | 4 | 130 | 254 | 0 | 2 | 147 | 0 | 1.4 | 2 | 1 | 7 | 2 |\n",
       "| 10 | 53 | 1 | 4 | 140 | 203 | 1 | 2 | 155 | 1 | 3.1 | 3 | 0 | 7 | 1 |\n",
       "\n"
      ],
      "text/plain": [
       "   age sex cp..chest.pain.type. trestbps..resting.blood.pressure.\n",
       "1  63  1   1                    145                              \n",
       "2  67  1   4                    160                              \n",
       "3  67  1   4                    120                              \n",
       "4  37  1   3                    130                              \n",
       "5  41  0   2                    130                              \n",
       "6  56  1   2                    120                              \n",
       "7  62  0   4                    140                              \n",
       "8  57  0   4                    120                              \n",
       "9  63  1   4                    130                              \n",
       "10 53  1   4                    140                              \n",
       "   chol..serum.cholestoral.in.mg.dl. fbs..fasting.blood.sugar...120.mg.dl.\n",
       "1  233                               1                                    \n",
       "2  286                               0                                    \n",
       "3  229                               0                                    \n",
       "4  250                               0                                    \n",
       "5  204                               0                                    \n",
       "6  236                               0                                    \n",
       "7  268                               0                                    \n",
       "8  354                               0                                    \n",
       "9  254                               0                                    \n",
       "10 203                               1                                    \n",
       "   restecg..resting.electrocardiographic.results.\n",
       "1  2                                             \n",
       "2  2                                             \n",
       "3  2                                             \n",
       "4  0                                             \n",
       "5  2                                             \n",
       "6  0                                             \n",
       "7  2                                             \n",
       "8  0                                             \n",
       "9  2                                             \n",
       "10 2                                             \n",
       "   thalach..maximum.heart.rate.achieved. exang..exercise.induced.angina.\n",
       "1  150                                   0                              \n",
       "2  108                                   1                              \n",
       "3  129                                   1                              \n",
       "4  187                                   0                              \n",
       "5  172                                   0                              \n",
       "6  178                                   0                              \n",
       "7  160                                   0                              \n",
       "8  163                                   1                              \n",
       "9  147                                   0                              \n",
       "10 155                                   1                              \n",
       "   oldpeak..ST.depression.induced.by.exercise.relative.to.rest.\n",
       "1  2.3                                                         \n",
       "2  1.5                                                         \n",
       "3  2.6                                                         \n",
       "4  3.5                                                         \n",
       "5  1.4                                                         \n",
       "6  0.8                                                         \n",
       "7  3.6                                                         \n",
       "8  0.6                                                         \n",
       "9  1.4                                                         \n",
       "10 3.1                                                         \n",
       "   slope..the.slope.of.the.peak.exercise.ST.segment.\n",
       "1  3                                                \n",
       "2  2                                                \n",
       "3  2                                                \n",
       "4  3                                                \n",
       "5  1                                                \n",
       "6  1                                                \n",
       "7  3                                                \n",
       "8  1                                                \n",
       "9  2                                                \n",
       "10 3                                                \n",
       "   ca..number.of.major.vessels..0.3..colored.by.flourosopy.\n",
       "1  0                                                       \n",
       "2  3                                                       \n",
       "3  2                                                       \n",
       "4  0                                                       \n",
       "5  0                                                       \n",
       "6  0                                                       \n",
       "7  2                                                       \n",
       "8  0                                                       \n",
       "9  1                                                       \n",
       "10 0                                                       \n",
       "   thal..3...normal..6...fixed.defect..7...reversable.defect.\n",
       "1  6                                                         \n",
       "2  3                                                         \n",
       "3  7                                                         \n",
       "4  3                                                         \n",
       "5  3                                                         \n",
       "6  3                                                         \n",
       "7  3                                                         \n",
       "8  3                                                         \n",
       "9  7                                                         \n",
       "10 7                                                         \n",
       "   num..diagnosis.of.heart.disease..angiographic.disease.status..\n",
       "1  0                                                             \n",
       "2  2                                                             \n",
       "3  1                                                             \n",
       "4  0                                                             \n",
       "5  0                                                             \n",
       "6  0                                                             \n",
       "7  3                                                             \n",
       "8  0                                                             \n",
       "9  2                                                             \n",
       "10 1                                                             "
      ]
     },
     "metadata": {},
     "output_type": "display_data"
    }
   ],
   "source": [
    "dir.create(\"data_for_project\")\n",
    "\n",
    "url <- \"https://raw.githubusercontent.com/slakhwar/grp-project/main/processed.cleveland.csv\"\n",
    "\n",
    "download.file(url, destfile =\"data_for_project/processed.cleveland.csv\")\n",
    "cleveland_data <- read.csv(\"data_for_project/processed.cleveland.csv\")\n",
    "\n",
    "head(cleveland_data, 10)"
   ]
  },
  {
   "cell_type": "markdown",
   "metadata": {},
   "source": [
    "Summary Statistics Table"
   ]
  },
  {
   "cell_type": "code",
   "execution_count": 23,
   "metadata": {},
   "outputs": [
    {
     "name": "stderr",
     "output_type": "stream",
     "text": [
      "`summarise()` ungrouping output (override with `.groups` argument)\n",
      "\n"
     ]
    },
    {
     "data": {
      "text/html": [
       "<table>\n",
       "<caption>A tibble: 2 × 2</caption>\n",
       "<thead>\n",
       "\t<tr><th scope=col>sex</th><th scope=col>percent</th></tr>\n",
       "\t<tr><th scope=col>&lt;int&gt;</th><th scope=col>&lt;dbl&gt;</th></tr>\n",
       "</thead>\n",
       "<tbody>\n",
       "\t<tr><td>0</td><td>30.56769</td></tr>\n",
       "\t<tr><td>1</td><td>69.43231</td></tr>\n",
       "</tbody>\n",
       "</table>\n"
      ],
      "text/latex": [
       "A tibble: 2 × 2\n",
       "\\begin{tabular}{ll}\n",
       " sex & percent\\\\\n",
       " <int> & <dbl>\\\\\n",
       "\\hline\n",
       "\t 0 & 30.56769\\\\\n",
       "\t 1 & 69.43231\\\\\n",
       "\\end{tabular}\n"
      ],
      "text/markdown": [
       "\n",
       "A tibble: 2 × 2\n",
       "\n",
       "| sex &lt;int&gt; | percent &lt;dbl&gt; |\n",
       "|---|---|\n",
       "| 0 | 30.56769 |\n",
       "| 1 | 69.43231 |\n",
       "\n"
      ],
      "text/plain": [
       "  sex percent \n",
       "1 0   30.56769\n",
       "2 1   69.43231"
      ]
     },
     "metadata": {},
     "output_type": "display_data"
    }
   ],
   "source": [
    "cleveland_data_split <- initial_split(cleveland_data, prop=0.75, strata = age)\n",
    "cleveland_data_train <- training(cleveland_data_split)\n",
    "cleveland_data_test <- testing(cleveland_data_split)\n",
    "\n",
    "total_rows <- cleveland_data_train %>%\n",
    " count() %>%\n",
    " pull()\n",
    "\n",
    "gender_percent_table <- cleveland_data_train %>%\n",
    " group_by(sex) %>%\n",
    " summarise(percent = n()*100/total_rows)\n",
    "gender_percent_table"
   ]
  },
  {
   "cell_type": "code",
   "execution_count": null,
   "metadata": {},
   "outputs": [],
   "source": []
  }
 ],
 "metadata": {
  "kernelspec": {
   "display_name": "R",
   "language": "R",
   "name": "ir"
  },
  "language_info": {
   "codemirror_mode": "r",
   "file_extension": ".r",
   "mimetype": "text/x-r-source",
   "name": "R",
   "pygments_lexer": "r",
   "version": "4.0.0"
  }
 },
 "nbformat": 4,
 "nbformat_minor": 4
}
